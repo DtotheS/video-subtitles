{
  "nbformat": 4,
  "nbformat_minor": 0,
  "metadata": {
    "colab": {
      "provenance": [],
      "authorship_tag": "ABX9TyMrRvcXbOA3ie89jemdFywQ",
      "include_colab_link": true
    },
    "kernelspec": {
      "name": "python3",
      "display_name": "Python 3"
    },
    "language_info": {
      "name": "python"
    }
  },
  "cells": [
    {
      "cell_type": "markdown",
      "metadata": {
        "id": "view-in-github",
        "colab_type": "text"
      },
      "source": [
        "<a href=\"https://colab.research.google.com/github/DtotheS/video-subtitles/blob/main/src/subtitles_v2.ipynb\" target=\"_parent\"><img src=\"https://colab.research.google.com/assets/colab-badge.svg\" alt=\"Open In Colab\"/></a>"
      ]
    },
    {
      "cell_type": "code",
      "source": [
        "# %cd DtotheS/video-subtitles/\n",
        "# %pwd\n",
        "# !python -c \"import ffmpeg; print('FFmpeg module is working!')\""
      ],
      "metadata": {
        "colab": {
          "base_uri": "https://localhost:8080/"
        },
        "id": "IjpZJBegnYPG",
        "outputId": "b8ac3c00-e85e-45f3-b3f9-f8a49bb793e1"
      },
      "execution_count": null,
      "outputs": [
        {
          "output_type": "stream",
          "name": "stdout",
          "text": [
            "Traceback (most recent call last):\r\n",
            "  File \"<string>\", line 1, in <module>\r\n",
            "ModuleNotFoundError: No module named 'ffmpeg'\r\n"
          ]
        }
      ]
    },
    {
      "cell_type": "code",
      "source": [
        "%pwd"
      ],
      "metadata": {
        "colab": {
          "base_uri": "https://localhost:8080/"
        },
        "id": "h5On3boqp7kM",
        "outputId": "873592c1-5d03-4108-cc29-cfb44a1a98d7"
      },
      "execution_count": null,
      "outputs": [
        {
          "output_type": "execute_result",
          "data": {
            "text/plain": [
              "'/Users/agathos/DtotheS/video-subtitles'"
            ]
          },
          "metadata": {},
          "execution_count": 8
        }
      ]
    },
    {
      "cell_type": "code",
      "execution_count": null,
      "metadata": {
        "colab": {
          "base_uri": "https://localhost:8080/"
        },
        "id": "Zj3BPbBAmTSZ",
        "outputId": "da82f5b6-651a-4669-83fa-d84645b8df0e"
      },
      "outputs": [
        {
          "output_type": "stream",
          "name": "stdout",
          "text": [
            "Downloading video...\n",
            "[youtube] Extracting URL: https://www.youtube.com/watch?v=sLs04yn42KA\n",
            "[youtube] sLs04yn42KA: Downloading webpage\n",
            "[youtube] sLs04yn42KA: Downloading tv client config\n",
            "[youtube] sLs04yn42KA: Downloading player 9c6dfc4a\n",
            "[youtube] sLs04yn42KA: Downloading tv player API JSON\n",
            "[youtube] sLs04yn42KA: Downloading ios player API JSON\n",
            "[youtube] sLs04yn42KA: Downloading m3u8 information\n",
            "[info] sLs04yn42KA: Downloading 1 format(s): 18\n",
            "[download] Destination: ./downloaded_video.mp4\n",
            "[download] 100% of  119.74MiB in 00:00:12 at 9.35MiB/s   \n",
            "Video downloaded successfully: downloaded_video.mp4\n",
            "Adding subtitles...\n"
          ]
        },
        {
          "output_type": "stream",
          "name": "stderr",
          "text": [
            "ffmpeg version 7.1 Copyright (c) 2000-2024 the FFmpeg developers\n",
            "  built with clang version 18.1.8\n",
            "  configuration: --prefix=/Users/agathos/miniforge3/envs/subtitle_env --cc=arm64-apple-darwin20.0.0-clang --cxx=arm64-apple-darwin20.0.0-clang++ --nm=arm64-apple-darwin20.0.0-nm --ar=arm64-apple-darwin20.0.0-ar --disable-doc --enable-openssl --enable-demuxer=dash --enable-hardcoded-tables --enable-libfreetype --enable-libharfbuzz --enable-libfontconfig --enable-libopenh264 --enable-libdav1d --enable-cross-compile --arch=arm64 --target-os=darwin --cross-prefix=arm64-apple-darwin20.0.0- --host-cc=/Users/runner/miniforge3/conda-bld/ffmpeg_1738950713088/_build_env/bin/x86_64-apple-darwin13.4.0-clang --enable-neon --disable-gnutls --enable-libmp3lame --enable-libvpx --enable-libass --enable-pthreads --enable-libopenvino --enable-gpl --enable-libx264 --enable-libx265 --enable-libaom --enable-libsvtav1 --enable-libxml2 --enable-pic --enable-shared --disable-static --enable-version3 --enable-zlib --enable-libopus --enable-librsvg --enable-ffplay --pkg-config=/Users/runner/miniforge3/conda-bld/ffmpeg_1738950713088/_build_env/bin/pkg-config\n",
            "  libavutil      59. 39.100 / 59. 39.100\n",
            "  libavcodec     61. 19.100 / 61. 19.100\n",
            "  libavformat    61.  7.100 / 61.  7.100\n",
            "  libavdevice    61.  3.100 / 61.  3.100\n",
            "  libavfilter    10.  4.100 / 10.  4.100\n",
            "  libswscale      8.  3.100 /  8.  3.100\n",
            "  libswresample   5.  3.100 /  5.  3.100\n",
            "  libpostproc    58.  3.100 / 58.  3.100\n",
            "Input #0, mov,mp4,m4a,3gp,3g2,mj2, from 'downloaded_video.mp4':\n",
            "  Metadata:\n",
            "    major_brand     : mp42\n",
            "    minor_version   : 0\n",
            "    compatible_brands: isommp42\n",
            "    encoder         : Google\n",
            "  Duration: 00:44:13.62, start: 0.000000, bitrate: 378 kb/s\n",
            "  Stream #0:0[0x1](und): Video: h264 (Main) (avc1 / 0x31637661), yuv420p(tv, bt709, progressive), 640x360 [SAR 1:1 DAR 16:9], 280 kb/s, 30 fps, 30 tbr, 15360 tbn (default)\n",
            "      Metadata:\n",
            "        handler_name    : ISO Media file produced by Google Inc.\n",
            "        vendor_id       : [0][0][0][0]\n",
            "  Stream #0:1[0x2](eng): Audio: aac (LC) (mp4a / 0x6134706D), 44100 Hz, stereo, fltp, 95 kb/s (default)\n",
            "      Metadata:\n",
            "        handler_name    : ISO Media file produced by Google Inc.\n",
            "        vendor_id       : [0][0][0][0]\n",
            "[Parsed_subtitles_0 @ 0x60000316cbb0] libass API version: 0x1703000\n",
            "[Parsed_subtitles_0 @ 0x60000316cbb0] libass source: tarball: 0.17.3\n",
            "[Parsed_subtitles_0 @ 0x60000316cbb0] Shaper: FriBidi 1.0.10 (SIMPLE) HarfBuzz-ng 10.2.0 (COMPLEX)\n",
            "[Parsed_subtitles_0 @ 0x60000316cbb0] Using font provider coretext\n",
            "[Parsed_subtitles_0 @ 0x60000316cbb0] libass wasn't built with ASS_FEATURE_WRAP_UNICODE support\n",
            "Stream mapping:\n",
            "  Stream #0:0 -> #0:0 (h264 (native) -> h264 (libx264))\n",
            "  Stream #0:1 -> #0:1 (aac (native) -> aac (native))\n",
            "Press [q] to stop, [?] for help\n",
            "[Parsed_subtitles_0 @ 0x60000316d130] libass API version: 0x1703000\n",
            "[Parsed_subtitles_0 @ 0x60000316d130] libass source: tarball: 0.17.3\n",
            "[Parsed_subtitles_0 @ 0x60000316d130] Shaper: FriBidi 1.0.10 (SIMPLE) HarfBuzz-ng 10.2.0 (COMPLEX)\n",
            "[Parsed_subtitles_0 @ 0x60000316d130] Using font provider coretext\n",
            "[Parsed_subtitles_0 @ 0x60000316d130] libass wasn't built with ASS_FEATURE_WRAP_UNICODE support\n",
            "[libx264 @ 0x14ce10950] using SAR=1/1\n",
            "[libx264 @ 0x14ce10950] using cpu capabilities: ARMv8 NEON\n",
            "[libx264 @ 0x14ce10950] profile High, level 3.0, 4:2:0, 8-bit\n",
            "[libx264 @ 0x14ce10950] 264 - core 164 r3095 baee400 - H.264/MPEG-4 AVC codec - Copyleft 2003-2022 - http://www.videolan.org/x264.html - options: cabac=1 ref=3 deblock=1:0:0 analyse=0x3:0x113 me=hex subme=7 psy=1 psy_rd=1.00:0.00 mixed_ref=1 me_range=16 chroma_me=1 trellis=1 8x8dct=1 cqm=0 deadzone=21,11 fast_pskip=1 chroma_qp_offset=-2 threads=11 lookahead_threads=1 sliced_threads=0 nr=0 decimate=1 interlaced=0 bluray_compat=0 constrained_intra=0 bframes=3 b_pyramid=2 b_adapt=1 b_bias=0 direct=1 weightb=1 open_gop=0 weightp=2 keyint=250 keyint_min=25 scenecut=40 intra_refresh=0 rc_lookahead=40 rc=crf mbtree=1 crf=23.0 qcomp=0.60 qpmin=0 qpmax=69 qpstep=4 ip_ratio=1.40 aq=1:1.00\n",
            "Output #0, mp4, to 'video_with_subtitles.mp4':\n",
            "  Metadata:\n",
            "    major_brand     : mp42\n",
            "    minor_version   : 0\n",
            "    compatible_brands: isommp42\n",
            "    encoder         : Lavf61.7.100\n",
            "  Stream #0:0(und): Video: h264 (avc1 / 0x31637661), yuv420p(tv, bt709, progressive), 640x360 [SAR 1:1 DAR 16:9], q=2-31, 30 fps, 15360 tbn (default)\n",
            "      Metadata:\n",
            "        handler_name    : ISO Media file produced by Google Inc.\n",
            "        vendor_id       : [0][0][0][0]\n",
            "        encoder         : Lavc61.19.100 libx264\n",
            "      Side data:\n",
            "        cpb: bitrate max/min/avg: 0/0/0 buffer size: 0 vbv_delay: N/A\n",
            "  Stream #0:1(eng): Audio: aac (LC) (mp4a / 0x6134706D), 44100 Hz, stereo, fltp, 128 kb/s (default)\n",
            "      Metadata:\n",
            "        handler_name    : ISO Media file produced by Google Inc.\n",
            "        vendor_id       : [0][0][0][0]\n",
            "        encoder         : Lavc61.19.100 aac\n",
            "[Parsed_subtitles_0 @ 0x60000316d130] fontselect: (Arial, 400, 0) -> /System/Library/Fonts/Supplemental/Arial.ttf, -1, ArialMT\n"
          ]
        },
        {
          "output_type": "stream",
          "name": "stdout",
          "text": [
            "✅ Video with subtitles saved as: video_with_subtitles.mp4\n"
          ]
        },
        {
          "output_type": "stream",
          "name": "stderr",
          "text": [
            "[out#0/mp4 @ 0x60000336c540] video:85070KiB audio:42350KiB subtitle:0KiB other streams:0KiB global headers:0KiB muxing overhead: 2.185352%\n",
            "frame=79607 fps=2119 q=-1.0 Lsize=  130204KiB time=00:44:13.50 bitrate= 402.0kbits/s speed=70.6x    \n",
            "[libx264 @ 0x14ce10950] frame I:320   Avg QP:15.86  size: 18555\n",
            "[libx264 @ 0x14ce10950] frame P:24369 Avg QP:20.60  size:  2366\n",
            "[libx264 @ 0x14ce10950] frame B:54918 Avg QP:26.97  size:   428\n",
            "[libx264 @ 0x14ce10950] consecutive B-frames:  5.8%  4.9%  5.0% 84.2%\n",
            "[libx264 @ 0x14ce10950] mb I  I16..4: 30.3% 34.2% 35.4%\n",
            "[libx264 @ 0x14ce10950] mb P  I16..4:  1.4%  1.2%  0.7%  P16..4: 18.2%  7.9%  4.5%  0.0%  0.0%    skip:66.1%\n",
            "[libx264 @ 0x14ce10950] mb B  I16..4:  0.1%  0.1%  0.1%  B16..8: 13.8%  2.2%  0.5%  direct: 0.7%  skip:82.6%  L0:46.0% L1:46.2% BI: 7.7%\n",
            "[libx264 @ 0x14ce10950] 8x8 transform intra:36.7% inter:46.1%\n",
            "[libx264 @ 0x14ce10950] coded y,uvDC,uvAC intra: 42.6% 62.9% 26.1% inter: 3.6% 4.9% 0.2%\n",
            "[libx264 @ 0x14ce10950] i16 v,h,dc,p: 11% 60%  6% 22%\n",
            "[libx264 @ 0x14ce10950] i8 v,h,dc,ddl,ddr,vr,hd,vl,hu: 14% 32% 30%  3%  4%  3%  4%  4%  6%\n",
            "[libx264 @ 0x14ce10950] i4 v,h,dc,ddl,ddr,vr,hd,vl,hu: 19% 29% 19%  4%  6%  5%  7%  5%  6%\n",
            "[libx264 @ 0x14ce10950] i8c dc,h,v,p: 40% 38% 14%  8%\n",
            "[libx264 @ 0x14ce10950] Weighted P-Frames: Y:0.7% UV:0.6%\n",
            "[libx264 @ 0x14ce10950] ref P L0: 72.9% 10.0% 13.0%  4.2%  0.0%\n",
            "[libx264 @ 0x14ce10950] ref B L0: 90.8%  8.2%  1.0%\n",
            "[libx264 @ 0x14ce10950] ref B L1: 97.3%  2.7%\n",
            "[libx264 @ 0x14ce10950] kb/s:262.62\n",
            "[aac @ 0x14ce8c040] Qavg: 784.793\n"
          ]
        }
      ],
      "source": [
        "import os\n",
        "import yt_dlp\n",
        "import ffmpeg\n",
        "\n",
        "# Set paths\n",
        "video_output_path = \"./\"\n",
        "srt_file = \"sermon_subtitles.srt\"  # Ensure this file is in the same directory\n",
        "\n",
        "# Ask for YouTube URL\n",
        "youtube_link = \"https://www.youtube.com/watch?v=sLs04yn42KA\"\n",
        "\n",
        "# Download video using yt-dlp\n",
        "print(\"Downloading video...\")\n",
        "video_filename = \"downloaded_video.mp4\"\n",
        "yt_dlp_options = {\n",
        "    'format': 'best',\n",
        "    'outtmpl': os.path.join(video_output_path, video_filename),\n",
        "}\n",
        "with yt_dlp.YoutubeDL(yt_dlp_options) as ydl:\n",
        "    ydl.download([youtube_link])\n",
        "\n",
        "print(f\"Video downloaded successfully: {video_filename}\")\n",
        "\n",
        "# Output file with subtitles\n",
        "output_video = \"video_with_subtitles.mp4\"\n",
        "\n",
        "# Add subtitles using FFmpeg\n",
        "print(\"Adding subtitles...\")\n",
        "ffmpeg.input(video_filename).output(output_video, vf=f\"subtitles={srt_file}\").run()\n",
        "\n",
        "print(f\"✅ Video with subtitles saved as: {output_video}\")"
      ]
    },
    {
      "cell_type": "code",
      "source": [
        "%pwd\n",
        "%cd DtotheS/video-subtitles/"
      ],
      "metadata": {
        "colab": {
          "base_uri": "https://localhost:8080/"
        },
        "id": "FHU0QPn8tjVc",
        "outputId": "d55e9912-2ea4-4443-ba84-cc66c1ccbd2c"
      },
      "execution_count": null,
      "outputs": [
        {
          "output_type": "stream",
          "name": "stdout",
          "text": [
            "/Users/agathos/DtotheS/video-subtitles\n"
          ]
        }
      ]
    },
    {
      "cell_type": "code",
      "source": [
        "# Using youtube autogenerated subtitles, but the timing is still bad.\n",
        "import os\n",
        "import yt_dlp\n",
        "import ffmpeg\n",
        "\n",
        "# Ask for YouTube URL\n",
        "youtube_link = input(\"Enter the YouTube video URL: \")\n",
        "\n",
        "# Define paths\n",
        "output_folder = \"./downloaded_videos\"\n",
        "os.makedirs(output_folder, exist_ok=True)\n",
        "\n",
        "video_filename = os.path.join(output_folder, \"video.mp4\")\n",
        "subtitles_vtt = os.path.join(output_folder, \"video.en.vtt\")  # YouTube auto subtitles are in .vtt\n",
        "subtitles_srt = os.path.join(output_folder, \"video.en.srt\")  # We will convert this to .srt\n",
        "output_video = os.path.join(output_folder, \"video_with_subtitles.mp4\")\n",
        "\n",
        "# yt-dlp options to download video & English subtitles\n",
        "yt_dlp_options = {\n",
        "    'format': 'best',\n",
        "    'writeautomaticsub': True,\n",
        "    'subtitleslangs': ['en'],\n",
        "    'outtmpl': os.path.join(output_folder, 'video.%(ext)s'),\n",
        "}\n",
        "\n",
        "# Download the video and subtitles\n",
        "print(\"Downloading video and subtitles...\")\n",
        "with yt_dlp.YoutubeDL(yt_dlp_options) as ydl:\n",
        "    ydl.download([youtube_link])\n",
        "\n",
        "# Check if the .vtt subtitle file exists\n",
        "if not os.path.exists(subtitles_vtt):\n",
        "    print(\"❌ No subtitles found! The video may not have auto-generated English subtitles.\")\n",
        "    exit()\n",
        "\n",
        "print(\"✅ Video and subtitles downloaded successfully.\")\n",
        "\n",
        "# Convert .vtt to .srt using FFmpeg\n",
        "print(\"Converting subtitles from .vtt to .srt...\")\n",
        "os.system(f'ffmpeg -i \"{subtitles_vtt}\" \"{subtitles_srt}\"')\n",
        "\n",
        "# Verify if the .srt file was created\n",
        "if not os.path.exists(subtitles_srt):\n",
        "    print(\"❌ Subtitle conversion failed! Check FFmpeg installation.\")\n",
        "    exit()\n",
        "\n",
        "print(\"✅ Subtitles converted successfully.\")\n",
        "\n",
        "# Burn subtitles into the video using FFmpeg\n",
        "print(\"Embedding subtitles into the video...\")\n",
        "ffmpeg.input(video_filename).output(output_video, vf=f\"subtitles={subtitles_srt}\").run()\n",
        "\n",
        "print(f\"🎉 Video with subtitles saved as: {output_video}\")\n"
      ],
      "metadata": {
        "colab": {
          "base_uri": "https://localhost:8080/"
        },
        "id": "2voA-qK-smMM",
        "outputId": "20eadb6d-8052-4123-cbc9-47f17630641e"
      },
      "execution_count": null,
      "outputs": [
        {
          "output_type": "stream",
          "name": "stdout",
          "text": [
            "Enter the YouTube video URL: https://www.youtube.com/watch?v=sLs04yn42KA\n",
            "Downloading video and subtitles...\n",
            "[youtube] Extracting URL: https://www.youtube.com/watch?v=sLs04yn42KA\n",
            "[youtube] sLs04yn42KA: Downloading webpage\n",
            "[youtube] sLs04yn42KA: Downloading tv client config\n",
            "[youtube] sLs04yn42KA: Downloading player 9c6dfc4a\n",
            "[youtube] sLs04yn42KA: Downloading tv player API JSON\n",
            "[youtube] sLs04yn42KA: Downloading ios player API JSON\n",
            "[youtube] sLs04yn42KA: Downloading m3u8 information\n",
            "[info] sLs04yn42KA: Downloading subtitles: en\n",
            "[info] sLs04yn42KA: Downloading 1 format(s): 18\n",
            "Deleting existing file ./downloaded_videos/video.en.vtt\n",
            "[info] Writing video subtitles to: ./downloaded_videos/video.en.vtt\n",
            "[download] Destination: ./downloaded_videos/video.en.vtt\n",
            "[download] 100% of  278.09KiB in 00:00:00 at 1.16MiB/s\n",
            "[download] ./downloaded_videos/video.mp4 has already been downloaded\n",
            "[download] 100% of  119.74MiB\n",
            "✅ Video and subtitles downloaded successfully.\n",
            "Converting subtitles from .vtt to .srt...\n",
            "✅ Subtitles converted successfully.\n",
            "Embedding subtitles into the video...\n"
          ]
        },
        {
          "output_type": "stream",
          "name": "stderr",
          "text": [
            "ffmpeg version 7.1 Copyright (c) 2000-2024 the FFmpeg developers\n",
            "  built with clang version 18.1.8\n",
            "  configuration: --prefix=/Users/agathos/miniforge3/envs/subtitle_env --cc=arm64-apple-darwin20.0.0-clang --cxx=arm64-apple-darwin20.0.0-clang++ --nm=arm64-apple-darwin20.0.0-nm --ar=arm64-apple-darwin20.0.0-ar --disable-doc --enable-openssl --enable-demuxer=dash --enable-hardcoded-tables --enable-libfreetype --enable-libharfbuzz --enable-libfontconfig --enable-libopenh264 --enable-libdav1d --enable-cross-compile --arch=arm64 --target-os=darwin --cross-prefix=arm64-apple-darwin20.0.0- --host-cc=/Users/runner/miniforge3/conda-bld/ffmpeg_1738950713088/_build_env/bin/x86_64-apple-darwin13.4.0-clang --enable-neon --disable-gnutls --enable-libmp3lame --enable-libvpx --enable-libass --enable-pthreads --enable-libopenvino --enable-gpl --enable-libx264 --enable-libx265 --enable-libaom --enable-libsvtav1 --enable-libxml2 --enable-pic --enable-shared --disable-static --enable-version3 --enable-zlib --enable-libopus --enable-librsvg --enable-ffplay --pkg-config=/Users/runner/miniforge3/conda-bld/ffmpeg_1738950713088/_build_env/bin/pkg-config\n",
            "  libavutil      59. 39.100 / 59. 39.100\n",
            "  libavcodec     61. 19.100 / 61. 19.100\n",
            "  libavformat    61.  7.100 / 61.  7.100\n",
            "  libavdevice    61.  3.100 / 61.  3.100\n",
            "  libavfilter    10.  4.100 / 10.  4.100\n",
            "  libswscale      8.  3.100 /  8.  3.100\n",
            "  libswresample   5.  3.100 /  5.  3.100\n",
            "  libpostproc    58.  3.100 / 58.  3.100\n",
            "Input #0, webvtt, from './downloaded_videos/video.en.vtt':\n",
            "  Duration: N/A, bitrate: N/A\n",
            "  Stream #0:0: Subtitle: webvtt\n",
            "Stream mapping:\n",
            "  Stream #0:0 -> #0:0 (webvtt (native) -> subrip (srt))\n",
            "Press [q] to stop, [?] for help\n",
            "Output #0, srt, to './downloaded_videos/video.en.srt':\n",
            "  Metadata:\n",
            "    encoder         : Lavf61.7.100\n",
            "  Stream #0:0: Subtitle: subrip\n",
            "      Metadata:\n",
            "        encoder         : Lavc61.19.100 srt\n",
            "[out#0/srt @ 0x6000017cdf80] video:0KiB audio:0KiB subtitle:85KiB other streams:0KiB global headers:0KiB muxing overhead: 69.016789%\n",
            "size=     144KiB time=00:44:13.83 bitrate=   0.4kbits/s speed=3.44e+05x    \n",
            "ffmpeg version 7.1 Copyright (c) 2000-2024 the FFmpeg developers\n",
            "  built with clang version 18.1.8\n",
            "  configuration: --prefix=/Users/agathos/miniforge3/envs/subtitle_env --cc=arm64-apple-darwin20.0.0-clang --cxx=arm64-apple-darwin20.0.0-clang++ --nm=arm64-apple-darwin20.0.0-nm --ar=arm64-apple-darwin20.0.0-ar --disable-doc --enable-openssl --enable-demuxer=dash --enable-hardcoded-tables --enable-libfreetype --enable-libharfbuzz --enable-libfontconfig --enable-libopenh264 --enable-libdav1d --enable-cross-compile --arch=arm64 --target-os=darwin --cross-prefix=arm64-apple-darwin20.0.0- --host-cc=/Users/runner/miniforge3/conda-bld/ffmpeg_1738950713088/_build_env/bin/x86_64-apple-darwin13.4.0-clang --enable-neon --disable-gnutls --enable-libmp3lame --enable-libvpx --enable-libass --enable-pthreads --enable-libopenvino --enable-gpl --enable-libx264 --enable-libx265 --enable-libaom --enable-libsvtav1 --enable-libxml2 --enable-pic --enable-shared --disable-static --enable-version3 --enable-zlib --enable-libopus --enable-librsvg --enable-ffplay --pkg-config=/Users/runner/miniforge3/conda-bld/ffmpeg_1738950713088/_build_env/bin/pkg-config\n",
            "  libavutil      59. 39.100 / 59. 39.100\n",
            "  libavcodec     61. 19.100 / 61. 19.100\n",
            "  libavformat    61.  7.100 / 61.  7.100\n",
            "  libavdevice    61.  3.100 / 61.  3.100\n",
            "  libavfilter    10.  4.100 / 10.  4.100\n",
            "  libswscale      8.  3.100 /  8.  3.100\n",
            "  libswresample   5.  3.100 /  5.  3.100\n",
            "  libpostproc    58.  3.100 / 58.  3.100\n",
            "Input #0, mov,mp4,m4a,3gp,3g2,mj2, from './downloaded_videos/video.mp4':\n",
            "  Metadata:\n",
            "    major_brand     : mp42\n",
            "    minor_version   : 0\n",
            "    compatible_brands: isommp42\n",
            "    encoder         : Google\n",
            "  Duration: 00:44:13.62, start: 0.000000, bitrate: 378 kb/s\n",
            "  Stream #0:0[0x1](und): Video: h264 (Main) (avc1 / 0x31637661), yuv420p(tv, bt709, progressive), 640x360 [SAR 1:1 DAR 16:9], 280 kb/s, 30 fps, 30 tbr, 15360 tbn (default)\n",
            "      Metadata:\n",
            "        handler_name    : ISO Media file produced by Google Inc.\n",
            "        vendor_id       : [0][0][0][0]\n",
            "  Stream #0:1[0x2](eng): Audio: aac (LC) (mp4a / 0x6134706D), 44100 Hz, stereo, fltp, 95 kb/s (default)\n",
            "      Metadata:\n",
            "        handler_name    : ISO Media file produced by Google Inc.\n",
            "        vendor_id       : [0][0][0][0]\n",
            "[Parsed_subtitles_0 @ 0x600002034160] libass API version: 0x1703000\n",
            "[Parsed_subtitles_0 @ 0x600002034160] libass source: tarball: 0.17.3\n",
            "[Parsed_subtitles_0 @ 0x600002034160] Shaper: FriBidi 1.0.10 (SIMPLE) HarfBuzz-ng 10.2.0 (COMPLEX)\n",
            "[Parsed_subtitles_0 @ 0x600002034160] Using font provider coretext\n",
            "[Parsed_subtitles_0 @ 0x600002034160] libass wasn't built with ASS_FEATURE_WRAP_UNICODE support\n",
            "Stream mapping:\n",
            "  Stream #0:0 -> #0:0 (h264 (native) -> h264 (libx264))\n",
            "  Stream #0:1 -> #0:1 (aac (native) -> aac (native))\n",
            "Press [q] to stop, [?] for help\n",
            "[Parsed_subtitles_0 @ 0x6000020393f0] libass API version: 0x1703000\n",
            "[Parsed_subtitles_0 @ 0x6000020393f0] libass source: tarball: 0.17.3\n",
            "[Parsed_subtitles_0 @ 0x6000020393f0] Shaper: FriBidi 1.0.10 (SIMPLE) HarfBuzz-ng 10.2.0 (COMPLEX)\n",
            "[Parsed_subtitles_0 @ 0x6000020393f0] Using font provider coretext\n",
            "[Parsed_subtitles_0 @ 0x6000020393f0] libass wasn't built with ASS_FEATURE_WRAP_UNICODE support\n",
            "[libx264 @ 0x13470f1c0] using SAR=1/1\n",
            "[libx264 @ 0x13470f1c0] using cpu capabilities: ARMv8 NEON\n",
            "[libx264 @ 0x13470f1c0] profile High, level 3.0, 4:2:0, 8-bit\n",
            "[libx264 @ 0x13470f1c0] 264 - core 164 r3095 baee400 - H.264/MPEG-4 AVC codec - Copyleft 2003-2022 - http://www.videolan.org/x264.html - options: cabac=1 ref=3 deblock=1:0:0 analyse=0x3:0x113 me=hex subme=7 psy=1 psy_rd=1.00:0.00 mixed_ref=1 me_range=16 chroma_me=1 trellis=1 8x8dct=1 cqm=0 deadzone=21,11 fast_pskip=1 chroma_qp_offset=-2 threads=11 lookahead_threads=1 sliced_threads=0 nr=0 decimate=1 interlaced=0 bluray_compat=0 constrained_intra=0 bframes=3 b_pyramid=2 b_adapt=1 b_bias=0 direct=1 weightb=1 open_gop=0 weightp=2 keyint=250 keyint_min=25 scenecut=40 intra_refresh=0 rc_lookahead=40 rc=crf mbtree=1 crf=23.0 qcomp=0.60 qpmin=0 qpmax=69 qpstep=4 ip_ratio=1.40 aq=1:1.00\n",
            "Output #0, mp4, to './downloaded_videos/video_with_subtitles.mp4':\n",
            "  Metadata:\n",
            "    major_brand     : mp42\n",
            "    minor_version   : 0\n",
            "    compatible_brands: isommp42\n",
            "    encoder         : Lavf61.7.100\n",
            "  Stream #0:0(und): Video: h264 (avc1 / 0x31637661), yuv420p(tv, bt709, progressive), 640x360 [SAR 1:1 DAR 16:9], q=2-31, 30 fps, 15360 tbn (default)\n",
            "      Metadata:\n",
            "        handler_name    : ISO Media file produced by Google Inc.\n",
            "        vendor_id       : [0][0][0][0]\n",
            "        encoder         : Lavc61.19.100 libx264\n",
            "      Side data:\n",
            "        cpb: bitrate max/min/avg: 0/0/0 buffer size: 0 vbv_delay: N/A\n",
            "  Stream #0:1(eng): Audio: aac (LC) (mp4a / 0x6134706D), 44100 Hz, stereo, fltp, 128 kb/s (default)\n",
            "      Metadata:\n",
            "        handler_name    : ISO Media file produced by Google Inc.\n",
            "        vendor_id       : [0][0][0][0]\n",
            "        encoder         : Lavc61.19.100 aac\n",
            "[Parsed_subtitles_0 @ 0x6000020393f0] fontselect: (Arial, 400, 0) -> /System/Library/Fonts/Supplemental/Arial.ttf, -1, ArialMT\n"
          ]
        },
        {
          "output_type": "stream",
          "name": "stdout",
          "text": [
            "🎉 Video with subtitles saved as: ./downloaded_videos/video_with_subtitles.mp4\n"
          ]
        },
        {
          "output_type": "stream",
          "name": "stderr",
          "text": [
            "frame=79596 fps=2102 q=29.0 size=  131840KiB time=N/A bitrate=N/A speed=N/A    \r[out#0/mp4 @ 0x600002234000] video:89710KiB audio:42350KiB subtitle:0KiB other streams:0KiB global headers:0KiB muxing overhead: 2.107536%\n",
            "frame=79607 fps=2102 q=-1.0 Lsize=  134843KiB time=00:44:13.50 bitrate= 416.3kbits/s speed=70.1x    \n",
            "[libx264 @ 0x13470f1c0] frame I:321   Avg QP:15.90  size: 22520\n",
            "[libx264 @ 0x13470f1c0] frame P:24554 Avg QP:20.76  size:  2503\n",
            "[libx264 @ 0x13470f1c0] frame B:54732 Avg QP:27.13  size:   424\n",
            "[libx264 @ 0x13470f1c0] consecutive B-frames:  6.2%  4.9%  5.0% 84.0%\n",
            "[libx264 @ 0x13470f1c0] mb I  I16..4: 29.8% 32.8% 37.4%\n",
            "[libx264 @ 0x13470f1c0] mb P  I16..4:  1.3%  1.2%  0.7%  P16..4: 17.8%  7.8%  4.4%  0.0%  0.0%    skip:66.7%\n",
            "[libx264 @ 0x13470f1c0] mb B  I16..4:  0.1%  0.1%  0.1%  B16..8: 13.4%  2.2%  0.5%  direct: 0.7%  skip:83.0%  L0:46.0% L1:46.2% BI: 7.8%\n",
            "[libx264 @ 0x13470f1c0] 8x8 transform intra:35.6% inter:45.4%\n",
            "[libx264 @ 0x13470f1c0] coded y,uvDC,uvAC intra: 43.6% 63.5% 27.8% inter: 3.6% 4.8% 0.3%\n",
            "[libx264 @ 0x13470f1c0] i16 v,h,dc,p: 12% 60%  6% 22%\n",
            "[libx264 @ 0x13470f1c0] i8 v,h,dc,ddl,ddr,vr,hd,vl,hu: 14% 32% 30%  3%  4%  3%  4%  4%  5%\n",
            "[libx264 @ 0x13470f1c0] i4 v,h,dc,ddl,ddr,vr,hd,vl,hu: 20% 28% 19%  4%  6%  6%  7%  5%  6%\n",
            "[libx264 @ 0x13470f1c0] i8c dc,h,v,p: 40% 38% 14%  8%\n",
            "[libx264 @ 0x13470f1c0] Weighted P-Frames: Y:0.5% UV:0.5%\n",
            "[libx264 @ 0x13470f1c0] ref P L0: 72.6% 10.3% 12.8%  4.2%  0.0%\n",
            "[libx264 @ 0x13470f1c0] ref B L0: 90.7%  8.3%  1.0%\n",
            "[libx264 @ 0x13470f1c0] ref B L1: 97.3%  2.7%\n",
            "[libx264 @ 0x13470f1c0] kb/s:276.95\n",
            "[aac @ 0x13478a5e0] Qavg: 784.793\n"
          ]
        }
      ]
    },
    {
      "cell_type": "code",
      "source": [
        "%cd DtotheS/video-subtitles/\n",
        "%pwd"
      ],
      "metadata": {
        "colab": {
          "base_uri": "https://localhost:8080/"
        },
        "id": "h-W3u21jxkgB",
        "outputId": "18af090a-200c-4e60-f014-74511c336161"
      },
      "execution_count": null,
      "outputs": [
        {
          "output_type": "stream",
          "name": "stdout",
          "text": [
            "[Errno 2] No such file or directory: 'DtotheS/video-subtitles/'\n",
            "/Users/agathos/DtotheS/video-subtitles\n"
          ]
        },
        {
          "output_type": "execute_result",
          "data": {
            "text/plain": [
              "'/Users/agathos/DtotheS/video-subtitles'"
            ]
          },
          "metadata": {},
          "execution_count": 3
        }
      ]
    },
    {
      "cell_type": "code",
      "source": [
        "# Embed subtitle to video\n",
        "import os\n",
        "import ffmpeg\n",
        "\n",
        "# Set paths\n",
        "video_filename = \"downloaded_video.mp4\"  # Ensure the downloaded video file exists\n",
        "srt_file = \"sermon_subtitles_v5.srt\"  # Use the improved subtitle file\n",
        "output_video = \"video_with_subtitles_v5.mp4\"\n",
        "\n",
        "# Check if files exist\n",
        "if not os.path.exists(video_filename):\n",
        "    print(f\"❌ Error: Video file '{video_filename}' not found.\")\n",
        "    exit()\n",
        "\n",
        "if not os.path.exists(srt_file):\n",
        "    print(f\"❌ Error: Subtitle file '{srt_file}' not found.\")\n",
        "    exit()\n",
        "\n",
        "# Add subtitles using FFmpeg with improved styling\n",
        "print(\"Embedding subtitles into the video...\")\n",
        "\n",
        "try:\n",
        "    (\n",
        "        ffmpeg\n",
        "        .input(video_filename)\n",
        "        .output(\n",
        "            output_video,\n",
        "            vf=f\"subtitles={srt_file}:force_style='Fontsize=22,PrimaryColour=&HFFFFFF&,OutlineColour=&H000000&,Outline=2,Shadow=1,MarginV=40'\",\n",
        "        )\n",
        "        .run(overwrite_output=True)\n",
        "    )\n",
        "    print(f\"✅ Video with subtitles saved as: {output_video}\")\n",
        "\n",
        "except ffmpeg.Error as e:\n",
        "    print(\"❌ FFmpeg Error:\", e)\n",
        "    exit()\n"
      ],
      "metadata": {
        "colab": {
          "base_uri": "https://localhost:8080/"
        },
        "id": "DpVVMYPhvyug",
        "outputId": "445d5438-01d7-408d-e10c-fa73f1b09fad"
      },
      "execution_count": null,
      "outputs": [
        {
          "output_type": "stream",
          "name": "stdout",
          "text": [
            "Embedding subtitles into the video...\n"
          ]
        },
        {
          "output_type": "stream",
          "name": "stderr",
          "text": [
            "ffmpeg version 7.1 Copyright (c) 2000-2024 the FFmpeg developers\n",
            "  built with clang version 18.1.8\n",
            "  configuration: --prefix=/Users/agathos/miniforge3/envs/subtitle_env --cc=arm64-apple-darwin20.0.0-clang --cxx=arm64-apple-darwin20.0.0-clang++ --nm=arm64-apple-darwin20.0.0-nm --ar=arm64-apple-darwin20.0.0-ar --disable-doc --enable-openssl --enable-demuxer=dash --enable-hardcoded-tables --enable-libfreetype --enable-libharfbuzz --enable-libfontconfig --enable-libopenh264 --enable-libdav1d --enable-cross-compile --arch=arm64 --target-os=darwin --cross-prefix=arm64-apple-darwin20.0.0- --host-cc=/Users/runner/miniforge3/conda-bld/ffmpeg_1738950713088/_build_env/bin/x86_64-apple-darwin13.4.0-clang --enable-neon --disable-gnutls --enable-libmp3lame --enable-libvpx --enable-libass --enable-pthreads --enable-libopenvino --enable-gpl --enable-libx264 --enable-libx265 --enable-libaom --enable-libsvtav1 --enable-libxml2 --enable-pic --enable-shared --disable-static --enable-version3 --enable-zlib --enable-libopus --enable-librsvg --enable-ffplay --pkg-config=/Users/runner/miniforge3/conda-bld/ffmpeg_1738950713088/_build_env/bin/pkg-config\n",
            "  libavutil      59. 39.100 / 59. 39.100\n",
            "  libavcodec     61. 19.100 / 61. 19.100\n",
            "  libavformat    61.  7.100 / 61.  7.100\n",
            "  libavdevice    61.  3.100 / 61.  3.100\n",
            "  libavfilter    10.  4.100 / 10.  4.100\n",
            "  libswscale      8.  3.100 /  8.  3.100\n",
            "  libswresample   5.  3.100 /  5.  3.100\n",
            "  libpostproc    58.  3.100 / 58.  3.100\n",
            "Input #0, mov,mp4,m4a,3gp,3g2,mj2, from 'downloaded_video.mp4':\n",
            "  Metadata:\n",
            "    major_brand     : mp42\n",
            "    minor_version   : 0\n",
            "    compatible_brands: isommp42\n",
            "    encoder         : Google\n",
            "  Duration: 00:44:13.62, start: 0.000000, bitrate: 378 kb/s\n",
            "  Stream #0:0[0x1](und): Video: h264 (Main) (avc1 / 0x31637661), yuv420p(tv, bt709, progressive), 640x360 [SAR 1:1 DAR 16:9], 280 kb/s, 30 fps, 30 tbr, 15360 tbn (default)\n",
            "      Metadata:\n",
            "        handler_name    : ISO Media file produced by Google Inc.\n",
            "        vendor_id       : [0][0][0][0]\n",
            "  Stream #0:1[0x2](eng): Audio: aac (LC) (mp4a / 0x6134706D), 44100 Hz, stereo, fltp, 95 kb/s (default)\n",
            "      Metadata:\n",
            "        handler_name    : ISO Media file produced by Google Inc.\n",
            "        vendor_id       : [0][0][0][0]\n",
            "[Parsed_subtitles_0 @ 0x600003a74160] libass API version: 0x1703000\n",
            "[Parsed_subtitles_0 @ 0x600003a74160] libass source: tarball: 0.17.3\n",
            "[Parsed_subtitles_0 @ 0x600003a74160] Shaper: FriBidi 1.0.10 (SIMPLE) HarfBuzz-ng 10.2.0 (COMPLEX)\n",
            "[Parsed_subtitles_0 @ 0x600003a74160] Using font provider coretext\n",
            "[Parsed_subtitles_0 @ 0x600003a74160] libass wasn't built with ASS_FEATURE_WRAP_UNICODE support\n",
            "Stream mapping:\n",
            "  Stream #0:0 -> #0:0 (h264 (native) -> h264 (libx264))\n",
            "  Stream #0:1 -> #0:1 (aac (native) -> aac (native))\n",
            "Press [q] to stop, [?] for help\n",
            "[Parsed_subtitles_0 @ 0x600003a71600] libass API version: 0x1703000\n",
            "[Parsed_subtitles_0 @ 0x600003a71600] libass source: tarball: 0.17.3\n",
            "[Parsed_subtitles_0 @ 0x600003a71600] Shaper: FriBidi 1.0.10 (SIMPLE) HarfBuzz-ng 10.2.0 (COMPLEX)\n",
            "[Parsed_subtitles_0 @ 0x600003a71600] Using font provider coretext\n",
            "[Parsed_subtitles_0 @ 0x600003a71600] libass wasn't built with ASS_FEATURE_WRAP_UNICODE support\n",
            "[libx264 @ 0x15a70f1c0] using SAR=1/1\n",
            "[libx264 @ 0x15a70f1c0] using cpu capabilities: ARMv8 NEON\n",
            "[libx264 @ 0x15a70f1c0] profile High, level 3.0, 4:2:0, 8-bit\n",
            "[libx264 @ 0x15a70f1c0] 264 - core 164 r3095 baee400 - H.264/MPEG-4 AVC codec - Copyleft 2003-2022 - http://www.videolan.org/x264.html - options: cabac=1 ref=3 deblock=1:0:0 analyse=0x3:0x113 me=hex subme=7 psy=1 psy_rd=1.00:0.00 mixed_ref=1 me_range=16 chroma_me=1 trellis=1 8x8dct=1 cqm=0 deadzone=21,11 fast_pskip=1 chroma_qp_offset=-2 threads=11 lookahead_threads=1 sliced_threads=0 nr=0 decimate=1 interlaced=0 bluray_compat=0 constrained_intra=0 bframes=3 b_pyramid=2 b_adapt=1 b_bias=0 direct=1 weightb=1 open_gop=0 weightp=2 keyint=250 keyint_min=25 scenecut=40 intra_refresh=0 rc_lookahead=40 rc=crf mbtree=1 crf=23.0 qcomp=0.60 qpmin=0 qpmax=69 qpstep=4 ip_ratio=1.40 aq=1:1.00\n",
            "Output #0, mp4, to 'video_with_subtitles_v5.mp4':\n",
            "  Metadata:\n",
            "    major_brand     : mp42\n",
            "    minor_version   : 0\n",
            "    compatible_brands: isommp42\n",
            "    encoder         : Lavf61.7.100\n",
            "  Stream #0:0(und): Video: h264 (avc1 / 0x31637661), yuv420p(tv, bt709, progressive), 640x360 [SAR 1:1 DAR 16:9], q=2-31, 30 fps, 15360 tbn (default)\n",
            "      Metadata:\n",
            "        handler_name    : ISO Media file produced by Google Inc.\n",
            "        vendor_id       : [0][0][0][0]\n",
            "        encoder         : Lavc61.19.100 libx264\n",
            "      Side data:\n",
            "        cpb: bitrate max/min/avg: 0/0/0 buffer size: 0 vbv_delay: N/A\n",
            "  Stream #0:1(eng): Audio: aac (LC) (mp4a / 0x6134706D), 44100 Hz, stereo, fltp, 128 kb/s (default)\n",
            "      Metadata:\n",
            "        handler_name    : ISO Media file produced by Google Inc.\n",
            "        vendor_id       : [0][0][0][0]\n",
            "        encoder         : Lavc61.19.100 aac\n",
            "[Parsed_subtitles_0 @ 0x600003a71600] fontselect: (Arial, 400, 0) -> /System/Library/Fonts/Supplemental/Arial.ttf, -1, ArialMT\n",
            "[Parsed_subtitles_0 @ 0x600003a71600] Glyph 0xC120 not found, selecting one more font for (Arial, 400, 0)\n",
            "[Parsed_subtitles_0 @ 0x600003a71600] fontselect: (Arial, 400, 0) -> /System/Library/Fonts/AppleSDGothicNeo.ttc, -1, AppleSDGothicNeo-Regular\n"
          ]
        },
        {
          "output_type": "stream",
          "name": "stdout",
          "text": [
            "✅ Video with subtitles saved as: video_with_subtitles_v5.mp4\n"
          ]
        },
        {
          "output_type": "stream",
          "name": "stderr",
          "text": [
            "frame=79218 fps=1868 q=29.0 size=  128512KiB time=00:44:00.53 bitrate= 398.7kbits/s speed=62.3x    \r[out#0/mp4 @ 0x600003874000] video:86812KiB audio:42350KiB subtitle:0KiB other streams:0KiB global headers:0KiB muxing overhead: 2.152240%\n",
            "frame=79607 fps=1869 q=-1.0 Lsize=  131942KiB time=00:44:13.50 bitrate= 407.3kbits/s speed=62.3x    \n",
            "[libx264 @ 0x15a70f1c0] frame I:321   Avg QP:16.38  size: 26318\n",
            "[libx264 @ 0x15a70f1c0] frame P:25128 Avg QP:21.01  size:  2341\n",
            "[libx264 @ 0x15a70f1c0] frame B:54158 Avg QP:27.46  size:   399\n",
            "[libx264 @ 0x15a70f1c0] consecutive B-frames:  7.2%  5.0%  4.1% 83.7%\n",
            "[libx264 @ 0x15a70f1c0] mb I  I16..4: 27.0% 30.8% 42.3%\n",
            "[libx264 @ 0x15a70f1c0] mb P  I16..4:  1.2%  1.0%  0.4%  P16..4: 17.3%  7.2%  4.6%  0.0%  0.0%    skip:68.2%\n",
            "[libx264 @ 0x15a70f1c0] mb B  I16..4:  0.0%  0.1%  0.0%  B16..8: 12.1%  1.9%  0.5%  direct: 0.8%  skip:84.6%  L0:44.7% L1:47.6% BI: 7.7%\n",
            "[libx264 @ 0x15a70f1c0] 8x8 transform intra:35.1% inter:42.7%\n",
            "[libx264 @ 0x15a70f1c0] coded y,uvDC,uvAC intra: 40.5% 60.8% 25.8% inter: 3.6% 4.7% 0.3%\n",
            "[libx264 @ 0x15a70f1c0] i16 v,h,dc,p: 11% 61%  6% 23%\n",
            "[libx264 @ 0x15a70f1c0] i8 v,h,dc,ddl,ddr,vr,hd,vl,hu: 14% 35% 32%  2%  3%  3%  3%  3%  5%\n",
            "[libx264 @ 0x15a70f1c0] i4 v,h,dc,ddl,ddr,vr,hd,vl,hu: 19% 30% 17%  4%  6%  6%  7%  5%  6%\n",
            "[libx264 @ 0x15a70f1c0] i8c dc,h,v,p: 41% 39% 13%  7%\n",
            "[libx264 @ 0x15a70f1c0] Weighted P-Frames: Y:0.3% UV:0.3%\n",
            "[libx264 @ 0x15a70f1c0] ref P L0: 73.5%  9.7% 12.3%  4.5%  0.0%\n",
            "[libx264 @ 0x15a70f1c0] ref B L0: 90.3%  8.5%  1.2%\n",
            "[libx264 @ 0x15a70f1c0] ref B L1: 97.3%  2.7%\n",
            "[libx264 @ 0x15a70f1c0] kb/s:268.00\n",
            "[aac @ 0x15a78a540] Qavg: 784.793\n"
          ]
        }
      ]
    },
    {
      "cell_type": "code",
      "source": [
        "import subprocess\n",
        "\n",
        "def embed_subtitles(video_file, subtitle_file, output_file):\n",
        "    # Run the ffmpeg command to embed subtitles\n",
        "    command = [\n",
        "        'ffmpeg',\n",
        "        '-i', video_file,       # Input video file\n",
        "        '-i', subtitle_file,    # Input subtitle file\n",
        "        '-c:v', 'copy',         # Copy video codec (no re-encoding)\n",
        "        '-c:a', 'copy',         # Copy audio codec (no re-encoding)\n",
        "        '-c:s', 'mov_text',     # Embed subtitle as mov_text (for MP4)\n",
        "        '-strict', 'experimental',  # Enable experimental features if needed\n",
        "        output_file             # Output file path\n",
        "    ]\n",
        "\n",
        "    # Execute the command\n",
        "    subprocess.run(command, check=True)\n",
        "\n",
        "# Example usage\n",
        "video_path = './downloaded_video.mp4'   # Path to your video file\n",
        "vtt_file_path = './auto_sub.en.vtt'  # Path to your subtitle file\n",
        "output_path = './video_with_subtitles_v6.mp4'  # Path for the output video\n",
        "\n",
        "embed_subtitles(video_path, vtt_file_path, output_path)\n",
        "\n",
        "print(f\"Video with subtitles saved to: {output_path}\")\n"
      ],
      "metadata": {
        "colab": {
          "base_uri": "https://localhost:8080/"
        },
        "id": "rFDr5FMAwCLS",
        "outputId": "d6399403-0889-4cbc-be36-161df8294c36"
      },
      "execution_count": null,
      "outputs": [
        {
          "output_type": "stream",
          "name": "stderr",
          "text": [
            "ffmpeg version 7.1 Copyright (c) 2000-2024 the FFmpeg developers\n",
            "  built with clang version 18.1.8\n",
            "  configuration: --prefix=/Users/agathos/miniforge3/envs/subtitle_env --cc=arm64-apple-darwin20.0.0-clang --cxx=arm64-apple-darwin20.0.0-clang++ --nm=arm64-apple-darwin20.0.0-nm --ar=arm64-apple-darwin20.0.0-ar --disable-doc --enable-openssl --enable-demuxer=dash --enable-hardcoded-tables --enable-libfreetype --enable-libharfbuzz --enable-libfontconfig --enable-libopenh264 --enable-libdav1d --enable-cross-compile --arch=arm64 --target-os=darwin --cross-prefix=arm64-apple-darwin20.0.0- --host-cc=/Users/runner/miniforge3/conda-bld/ffmpeg_1738950713088/_build_env/bin/x86_64-apple-darwin13.4.0-clang --enable-neon --disable-gnutls --enable-libmp3lame --enable-libvpx --enable-libass --enable-pthreads --enable-libopenvino --enable-gpl --enable-libx264 --enable-libx265 --enable-libaom --enable-libsvtav1 --enable-libxml2 --enable-pic --enable-shared --disable-static --enable-version3 --enable-zlib --enable-libopus --enable-librsvg --enable-ffplay --pkg-config=/Users/runner/miniforge3/conda-bld/ffmpeg_1738950713088/_build_env/bin/pkg-config\n",
            "  libavutil      59. 39.100 / 59. 39.100\n",
            "  libavcodec     61. 19.100 / 61. 19.100\n",
            "  libavformat    61.  7.100 / 61.  7.100\n",
            "  libavdevice    61.  3.100 / 61.  3.100\n",
            "  libavfilter    10.  4.100 / 10.  4.100\n",
            "  libswscale      8.  3.100 /  8.  3.100\n",
            "  libswresample   5.  3.100 /  5.  3.100\n",
            "  libpostproc    58.  3.100 / 58.  3.100\n",
            "Input #0, mov,mp4,m4a,3gp,3g2,mj2, from './downloaded_video.mp4':\n",
            "  Metadata:\n",
            "    major_brand     : mp42\n",
            "    minor_version   : 0\n",
            "    compatible_brands: isommp42\n",
            "    encoder         : Google\n",
            "  Duration: 00:44:13.62, start: 0.000000, bitrate: 378 kb/s\n",
            "  Stream #0:0[0x1](und): Video: h264 (Main) (avc1 / 0x31637661), yuv420p(tv, bt709, progressive), 640x360 [SAR 1:1 DAR 16:9], 280 kb/s, 30 fps, 30 tbr, 15360 tbn (default)\n",
            "      Metadata:\n",
            "        handler_name    : ISO Media file produced by Google Inc.\n",
            "        vendor_id       : [0][0][0][0]\n",
            "  Stream #0:1[0x2](eng): Audio: aac (LC) (mp4a / 0x6134706D), 44100 Hz, stereo, fltp, 95 kb/s (default)\n",
            "      Metadata:\n",
            "        handler_name    : ISO Media file produced by Google Inc.\n",
            "        vendor_id       : [0][0][0][0]\n",
            "Input #1, webvtt, from './auto_sub.en.vtt':\n",
            "  Duration: N/A, bitrate: N/A\n",
            "  Stream #1:0: Subtitle: webvtt\n",
            "Stream mapping:\n",
            "  Stream #0:0 -> #0:0 (copy)\n",
            "  Stream #0:1 -> #0:1 (copy)\n",
            "  Stream #1:0 -> #0:2 (webvtt (native) -> mov_text (native))\n",
            "Press [q] to stop, [?] for help\n",
            "Output #0, mp4, to './video_with_subtitles_v6.mp4':\n",
            "  Metadata:\n",
            "    major_brand     : mp42\n",
            "    minor_version   : 0\n",
            "    compatible_brands: isommp42\n",
            "    encoder         : Lavf61.7.100\n",
            "  Stream #0:0(und): Video: h264 (Main) (avc1 / 0x31637661), yuv420p(tv, bt709, progressive), 640x360 [SAR 1:1 DAR 16:9], q=2-31, 280 kb/s, 30 fps, 30 tbr, 15360 tbn (default)\n",
            "      Metadata:\n",
            "        handler_name    : ISO Media file produced by Google Inc.\n",
            "        vendor_id       : [0][0][0][0]\n",
            "  Stream #0:1(eng): Audio: aac (LC) (mp4a / 0x6134706D), 44100 Hz, stereo, fltp, 95 kb/s (default)\n",
            "      Metadata:\n",
            "        handler_name    : ISO Media file produced by Google Inc.\n",
            "        vendor_id       : [0][0][0][0]\n",
            "  Stream #0:2: Subtitle: mov_text (tx3g / 0x67337874)\n",
            "      Metadata:\n",
            "        encoder         : Lavc61.19.100 mov_text\n"
          ]
        },
        {
          "output_type": "stream",
          "name": "stdout",
          "text": [
            "Video with subtitles saved to: ./video_with_subtitles_v6.mp4\n"
          ]
        },
        {
          "output_type": "stream",
          "name": "stderr",
          "text": [
            "[out#0/mp4 @ 0x6000002d9f80] video:90705KiB audio:31097KiB subtitle:87KiB other streams:0KiB global headers:0KiB muxing overhead: 1.819876%\n",
            "frame=79607 fps=0.0 q=-1.0 Lsize=  124107KiB time=00:44:13.56 bitrate= 383.1kbits/s speed=9.24e+03x    \n"
          ]
        }
      ]
    },
    {
      "cell_type": "code",
      "source": [
        "# Download video (original format) and autogenerated subtitles\n",
        "# yt-dlp --write-auto-sub --sub-lang en --sub-format srt --write-sub --output \"%(title)s.%(ext)s\" https://www.youtube.com/watch?v=eqlqbNZQ1lw\n",
        "\n",
        "#For mp4 video\n",
        "yt-dlp -f bestvideo+bestaudio --merge-output-format mp4 https://www.youtube.com/watch?v=YOUR_VIDEO_ID\n",
        "\n",
        "# Only for subtitle\n",
        "yt-dlp --write-auto-sub --sub-lang en --sub-format srt --skip-download --output \"%(title)s.%(ext)s\" https://www.youtube.com/watch?v=eqlqbNZQ1lw"
      ],
      "metadata": {
        "id": "Jmotr56OPCwj"
      },
      "execution_count": null,
      "outputs": []
    },
    {
      "cell_type": "code",
      "source": [
        "# with video mp4 and subtitle vtt => Create output_v1 video with open cc.\n",
        "!ffmpeg -i video.mp4 -i sub.vtt -c:v libx264 -c:a aac -strict experimental -filter_complex \"[0:v]subtitles=sub.vtt\" -y video_with_sub.mp4"
      ],
      "metadata": {
        "id": "eGhRw3AGSUvw"
      },
      "execution_count": null,
      "outputs": []
    }
  ]
}